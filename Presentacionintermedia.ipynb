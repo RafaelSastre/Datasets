{
  "nbformat": 4,
  "nbformat_minor": 0,
  "metadata": {
    "colab": {
      "provenance": [],
      "mount_file_id": "1677WkuGBU8Z4RzclZ2sw2D8UGa7R1AqW",
      "authorship_tag": "ABX9TyMzofOrLiJDyOUaL4j2wtRi",
      "include_colab_link": true
    },
    "kernelspec": {
      "name": "python3",
      "display_name": "Python 3"
    },
    "language_info": {
      "name": "python"
    }
  },
  "cells": [
    {
      "cell_type": "markdown",
      "metadata": {
        "id": "view-in-github",
        "colab_type": "text"
      },
      "source": [
        "<a href=\"https://colab.research.google.com/github/RafaelSastre/Datasets/blob/main/Presentacionintermedia.ipynb\" target=\"_parent\"><img src=\"https://colab.research.google.com/assets/colab-badge.svg\" alt=\"Open In Colab\"/></a>"
      ]
    },
    {
      "cell_type": "markdown",
      "source": [
        "Ingresos de las lineas del metro 2012 - 2022"
      ],
      "metadata": {
        "id": "bapMEN44lWVr"
      }
    },
    {
      "cell_type": "markdown",
      "source": [
        "Rafael Sastré Félix A00830731\n",
        "\n",
        "*   VARIABLES:\n",
        "\n",
        "\n",
        "\n",
        "\n",
        "\n",
        "\n",
        "*   Dia: numerica (Indica en que dia se hizo el ingreso)\n",
        "\n",
        "\n",
        "*   Año: numerica (indica en que año fue el ingreso)\n",
        "*   Fecha: numerica( indica en que fecha fue el ingreso)\n",
        "\n",
        "\n",
        "*   Tipo ingreso:categorica (Indica que significa el ingreso)\n",
        "*   Linea: categorica (Indica en que linea se hizo el ingreso)\n",
        "\n",
        "*   Ingreso: numerica (indica la cantidad de dinero que ingresó)\n",
        "\n",
        "\n",
        "\n",
        "\n",
        "\n",
        "\n",
        "\n",
        "\n",
        "\n",
        "\n",
        "\n",
        "\n"
      ],
      "metadata": {
        "id": "i62vsnSMmQfy"
      }
    },
    {
      "cell_type": "code",
      "source": [
        "import pandas as pd\n",
        "import numpy as np\n",
        "import matplotlib.pyplot as plt"
      ],
      "metadata": {
        "id": "Rn_IfQS9kiDL"
      },
      "execution_count": 1,
      "outputs": []
    },
    {
      "cell_type": "code",
      "execution_count": 2,
      "metadata": {
        "id": "jyff7qiOkE7b"
      },
      "outputs": [],
      "source": [
        "path = '/content/presfinalestesi.xlsx'"
      ]
    },
    {
      "cell_type": "code",
      "source": [
        "df = pd.read_excel(path)\n",
        "df"
      ],
      "metadata": {
        "colab": {
          "base_uri": "https://localhost:8080/",
          "height": 424
        },
        "id": "_p8ogPKXklq7",
        "outputId": "451c3390-c186-4234-b8ac-a0ef5c8845d5"
      },
      "execution_count": 3,
      "outputs": [
        {
          "output_type": "execute_result",
          "data": {
            "text/plain": [
              "        dia   año      fecha  tipo_ingreso linea   ingreso\n",
              "0         1  2012 2012-01-01       Boletos     1  648825.0\n",
              "1         1  2012 2012-01-01       Boletos     2  657120.0\n",
              "2         1  2012 2012-01-01       Boletos     3  466803.0\n",
              "3         1  2012 2012-01-01       Boletos     4   60120.0\n",
              "4         1  2012 2012-01-01       Boletos     5  242280.0\n",
              "...     ...   ...        ...           ...   ...       ...\n",
              "143899    4  2022 2022-08-31  Validador QR     8       0.0\n",
              "143900    4  2022 2022-08-31  Validador QR     9   14435.0\n",
              "143901    4  2022 2022-08-31  Validador QR     A       0.0\n",
              "143902    4  2022 2022-08-31  Validador QR     B       0.0\n",
              "143903    4  2022 2022-08-31  Validador QR    12       0.0\n",
              "\n",
              "[143904 rows x 6 columns]"
            ],
            "text/html": [
              "\n",
              "  <div id=\"df-7c417478-f81a-4378-bd45-08463e394adb\">\n",
              "    <div class=\"colab-df-container\">\n",
              "      <div>\n",
              "<style scoped>\n",
              "    .dataframe tbody tr th:only-of-type {\n",
              "        vertical-align: middle;\n",
              "    }\n",
              "\n",
              "    .dataframe tbody tr th {\n",
              "        vertical-align: top;\n",
              "    }\n",
              "\n",
              "    .dataframe thead th {\n",
              "        text-align: right;\n",
              "    }\n",
              "</style>\n",
              "<table border=\"1\" class=\"dataframe\">\n",
              "  <thead>\n",
              "    <tr style=\"text-align: right;\">\n",
              "      <th></th>\n",
              "      <th>dia</th>\n",
              "      <th>año</th>\n",
              "      <th>fecha</th>\n",
              "      <th>tipo_ingreso</th>\n",
              "      <th>linea</th>\n",
              "      <th>ingreso</th>\n",
              "    </tr>\n",
              "  </thead>\n",
              "  <tbody>\n",
              "    <tr>\n",
              "      <th>0</th>\n",
              "      <td>1</td>\n",
              "      <td>2012</td>\n",
              "      <td>2012-01-01</td>\n",
              "      <td>Boletos</td>\n",
              "      <td>1</td>\n",
              "      <td>648825.0</td>\n",
              "    </tr>\n",
              "    <tr>\n",
              "      <th>1</th>\n",
              "      <td>1</td>\n",
              "      <td>2012</td>\n",
              "      <td>2012-01-01</td>\n",
              "      <td>Boletos</td>\n",
              "      <td>2</td>\n",
              "      <td>657120.0</td>\n",
              "    </tr>\n",
              "    <tr>\n",
              "      <th>2</th>\n",
              "      <td>1</td>\n",
              "      <td>2012</td>\n",
              "      <td>2012-01-01</td>\n",
              "      <td>Boletos</td>\n",
              "      <td>3</td>\n",
              "      <td>466803.0</td>\n",
              "    </tr>\n",
              "    <tr>\n",
              "      <th>3</th>\n",
              "      <td>1</td>\n",
              "      <td>2012</td>\n",
              "      <td>2012-01-01</td>\n",
              "      <td>Boletos</td>\n",
              "      <td>4</td>\n",
              "      <td>60120.0</td>\n",
              "    </tr>\n",
              "    <tr>\n",
              "      <th>4</th>\n",
              "      <td>1</td>\n",
              "      <td>2012</td>\n",
              "      <td>2012-01-01</td>\n",
              "      <td>Boletos</td>\n",
              "      <td>5</td>\n",
              "      <td>242280.0</td>\n",
              "    </tr>\n",
              "    <tr>\n",
              "      <th>...</th>\n",
              "      <td>...</td>\n",
              "      <td>...</td>\n",
              "      <td>...</td>\n",
              "      <td>...</td>\n",
              "      <td>...</td>\n",
              "      <td>...</td>\n",
              "    </tr>\n",
              "    <tr>\n",
              "      <th>143899</th>\n",
              "      <td>4</td>\n",
              "      <td>2022</td>\n",
              "      <td>2022-08-31</td>\n",
              "      <td>Validador QR</td>\n",
              "      <td>8</td>\n",
              "      <td>0.0</td>\n",
              "    </tr>\n",
              "    <tr>\n",
              "      <th>143900</th>\n",
              "      <td>4</td>\n",
              "      <td>2022</td>\n",
              "      <td>2022-08-31</td>\n",
              "      <td>Validador QR</td>\n",
              "      <td>9</td>\n",
              "      <td>14435.0</td>\n",
              "    </tr>\n",
              "    <tr>\n",
              "      <th>143901</th>\n",
              "      <td>4</td>\n",
              "      <td>2022</td>\n",
              "      <td>2022-08-31</td>\n",
              "      <td>Validador QR</td>\n",
              "      <td>A</td>\n",
              "      <td>0.0</td>\n",
              "    </tr>\n",
              "    <tr>\n",
              "      <th>143902</th>\n",
              "      <td>4</td>\n",
              "      <td>2022</td>\n",
              "      <td>2022-08-31</td>\n",
              "      <td>Validador QR</td>\n",
              "      <td>B</td>\n",
              "      <td>0.0</td>\n",
              "    </tr>\n",
              "    <tr>\n",
              "      <th>143903</th>\n",
              "      <td>4</td>\n",
              "      <td>2022</td>\n",
              "      <td>2022-08-31</td>\n",
              "      <td>Validador QR</td>\n",
              "      <td>12</td>\n",
              "      <td>0.0</td>\n",
              "    </tr>\n",
              "  </tbody>\n",
              "</table>\n",
              "<p>143904 rows × 6 columns</p>\n",
              "</div>\n",
              "      <button class=\"colab-df-convert\" onclick=\"convertToInteractive('df-7c417478-f81a-4378-bd45-08463e394adb')\"\n",
              "              title=\"Convert this dataframe to an interactive table.\"\n",
              "              style=\"display:none;\">\n",
              "        \n",
              "  <svg xmlns=\"http://www.w3.org/2000/svg\" height=\"24px\"viewBox=\"0 0 24 24\"\n",
              "       width=\"24px\">\n",
              "    <path d=\"M0 0h24v24H0V0z\" fill=\"none\"/>\n",
              "    <path d=\"M18.56 5.44l.94 2.06.94-2.06 2.06-.94-2.06-.94-.94-2.06-.94 2.06-2.06.94zm-11 1L8.5 8.5l.94-2.06 2.06-.94-2.06-.94L8.5 2.5l-.94 2.06-2.06.94zm10 10l.94 2.06.94-2.06 2.06-.94-2.06-.94-.94-2.06-.94 2.06-2.06.94z\"/><path d=\"M17.41 7.96l-1.37-1.37c-.4-.4-.92-.59-1.43-.59-.52 0-1.04.2-1.43.59L10.3 9.45l-7.72 7.72c-.78.78-.78 2.05 0 2.83L4 21.41c.39.39.9.59 1.41.59.51 0 1.02-.2 1.41-.59l7.78-7.78 2.81-2.81c.8-.78.8-2.07 0-2.86zM5.41 20L4 18.59l7.72-7.72 1.47 1.35L5.41 20z\"/>\n",
              "  </svg>\n",
              "      </button>\n",
              "      \n",
              "  <style>\n",
              "    .colab-df-container {\n",
              "      display:flex;\n",
              "      flex-wrap:wrap;\n",
              "      gap: 12px;\n",
              "    }\n",
              "\n",
              "    .colab-df-convert {\n",
              "      background-color: #E8F0FE;\n",
              "      border: none;\n",
              "      border-radius: 50%;\n",
              "      cursor: pointer;\n",
              "      display: none;\n",
              "      fill: #1967D2;\n",
              "      height: 32px;\n",
              "      padding: 0 0 0 0;\n",
              "      width: 32px;\n",
              "    }\n",
              "\n",
              "    .colab-df-convert:hover {\n",
              "      background-color: #E2EBFA;\n",
              "      box-shadow: 0px 1px 2px rgba(60, 64, 67, 0.3), 0px 1px 3px 1px rgba(60, 64, 67, 0.15);\n",
              "      fill: #174EA6;\n",
              "    }\n",
              "\n",
              "    [theme=dark] .colab-df-convert {\n",
              "      background-color: #3B4455;\n",
              "      fill: #D2E3FC;\n",
              "    }\n",
              "\n",
              "    [theme=dark] .colab-df-convert:hover {\n",
              "      background-color: #434B5C;\n",
              "      box-shadow: 0px 1px 3px 1px rgba(0, 0, 0, 0.15);\n",
              "      filter: drop-shadow(0px 1px 2px rgba(0, 0, 0, 0.3));\n",
              "      fill: #FFFFFF;\n",
              "    }\n",
              "  </style>\n",
              "\n",
              "      <script>\n",
              "        const buttonEl =\n",
              "          document.querySelector('#df-7c417478-f81a-4378-bd45-08463e394adb button.colab-df-convert');\n",
              "        buttonEl.style.display =\n",
              "          google.colab.kernel.accessAllowed ? 'block' : 'none';\n",
              "\n",
              "        async function convertToInteractive(key) {\n",
              "          const element = document.querySelector('#df-7c417478-f81a-4378-bd45-08463e394adb');\n",
              "          const dataTable =\n",
              "            await google.colab.kernel.invokeFunction('convertToInteractive',\n",
              "                                                     [key], {});\n",
              "          if (!dataTable) return;\n",
              "\n",
              "          const docLinkHtml = 'Like what you see? Visit the ' +\n",
              "            '<a target=\"_blank\" href=https://colab.research.google.com/notebooks/data_table.ipynb>data table notebook</a>'\n",
              "            + ' to learn more about interactive tables.';\n",
              "          element.innerHTML = '';\n",
              "          dataTable['output_type'] = 'display_data';\n",
              "          await google.colab.output.renderOutput(dataTable, element);\n",
              "          const docLink = document.createElement('div');\n",
              "          docLink.innerHTML = docLinkHtml;\n",
              "          element.appendChild(docLink);\n",
              "        }\n",
              "      </script>\n",
              "    </div>\n",
              "  </div>\n",
              "  "
            ]
          },
          "metadata": {},
          "execution_count": 3
        }
      ]
    },
    {
      "cell_type": "code",
      "source": [
        "df.columns"
      ],
      "metadata": {
        "colab": {
          "base_uri": "https://localhost:8080/",
          "height": 0
        },
        "id": "KEGiM1AXnfJI",
        "outputId": "72c27a9f-6655-46d3-94e0-5bfe9a11bdd9"
      },
      "execution_count": 4,
      "outputs": [
        {
          "output_type": "execute_result",
          "data": {
            "text/plain": [
              "Index(['dia', 'año', 'fecha', 'tipo_ingreso', 'linea', 'ingreso'], dtype='object')"
            ]
          },
          "metadata": {},
          "execution_count": 4
        }
      ]
    },
    {
      "cell_type": "code",
      "source": [
        "\n",
        "df"
      ],
      "metadata": {
        "colab": {
          "base_uri": "https://localhost:8080/",
          "height": 424
        },
        "id": "v3FwTL9ynziA",
        "outputId": "27a27cd3-5eca-4ed6-88b1-c45d7f87140b"
      },
      "execution_count": 5,
      "outputs": [
        {
          "output_type": "execute_result",
          "data": {
            "text/plain": [
              "        dia   año      fecha  tipo_ingreso linea   ingreso\n",
              "0         1  2012 2012-01-01       Boletos     1  648825.0\n",
              "1         1  2012 2012-01-01       Boletos     2  657120.0\n",
              "2         1  2012 2012-01-01       Boletos     3  466803.0\n",
              "3         1  2012 2012-01-01       Boletos     4   60120.0\n",
              "4         1  2012 2012-01-01       Boletos     5  242280.0\n",
              "...     ...   ...        ...           ...   ...       ...\n",
              "143899    4  2022 2022-08-31  Validador QR     8       0.0\n",
              "143900    4  2022 2022-08-31  Validador QR     9   14435.0\n",
              "143901    4  2022 2022-08-31  Validador QR     A       0.0\n",
              "143902    4  2022 2022-08-31  Validador QR     B       0.0\n",
              "143903    4  2022 2022-08-31  Validador QR    12       0.0\n",
              "\n",
              "[143904 rows x 6 columns]"
            ],
            "text/html": [
              "\n",
              "  <div id=\"df-87966bc8-1a4e-442d-b09e-682b1b76eecf\">\n",
              "    <div class=\"colab-df-container\">\n",
              "      <div>\n",
              "<style scoped>\n",
              "    .dataframe tbody tr th:only-of-type {\n",
              "        vertical-align: middle;\n",
              "    }\n",
              "\n",
              "    .dataframe tbody tr th {\n",
              "        vertical-align: top;\n",
              "    }\n",
              "\n",
              "    .dataframe thead th {\n",
              "        text-align: right;\n",
              "    }\n",
              "</style>\n",
              "<table border=\"1\" class=\"dataframe\">\n",
              "  <thead>\n",
              "    <tr style=\"text-align: right;\">\n",
              "      <th></th>\n",
              "      <th>dia</th>\n",
              "      <th>año</th>\n",
              "      <th>fecha</th>\n",
              "      <th>tipo_ingreso</th>\n",
              "      <th>linea</th>\n",
              "      <th>ingreso</th>\n",
              "    </tr>\n",
              "  </thead>\n",
              "  <tbody>\n",
              "    <tr>\n",
              "      <th>0</th>\n",
              "      <td>1</td>\n",
              "      <td>2012</td>\n",
              "      <td>2012-01-01</td>\n",
              "      <td>Boletos</td>\n",
              "      <td>1</td>\n",
              "      <td>648825.0</td>\n",
              "    </tr>\n",
              "    <tr>\n",
              "      <th>1</th>\n",
              "      <td>1</td>\n",
              "      <td>2012</td>\n",
              "      <td>2012-01-01</td>\n",
              "      <td>Boletos</td>\n",
              "      <td>2</td>\n",
              "      <td>657120.0</td>\n",
              "    </tr>\n",
              "    <tr>\n",
              "      <th>2</th>\n",
              "      <td>1</td>\n",
              "      <td>2012</td>\n",
              "      <td>2012-01-01</td>\n",
              "      <td>Boletos</td>\n",
              "      <td>3</td>\n",
              "      <td>466803.0</td>\n",
              "    </tr>\n",
              "    <tr>\n",
              "      <th>3</th>\n",
              "      <td>1</td>\n",
              "      <td>2012</td>\n",
              "      <td>2012-01-01</td>\n",
              "      <td>Boletos</td>\n",
              "      <td>4</td>\n",
              "      <td>60120.0</td>\n",
              "    </tr>\n",
              "    <tr>\n",
              "      <th>4</th>\n",
              "      <td>1</td>\n",
              "      <td>2012</td>\n",
              "      <td>2012-01-01</td>\n",
              "      <td>Boletos</td>\n",
              "      <td>5</td>\n",
              "      <td>242280.0</td>\n",
              "    </tr>\n",
              "    <tr>\n",
              "      <th>...</th>\n",
              "      <td>...</td>\n",
              "      <td>...</td>\n",
              "      <td>...</td>\n",
              "      <td>...</td>\n",
              "      <td>...</td>\n",
              "      <td>...</td>\n",
              "    </tr>\n",
              "    <tr>\n",
              "      <th>143899</th>\n",
              "      <td>4</td>\n",
              "      <td>2022</td>\n",
              "      <td>2022-08-31</td>\n",
              "      <td>Validador QR</td>\n",
              "      <td>8</td>\n",
              "      <td>0.0</td>\n",
              "    </tr>\n",
              "    <tr>\n",
              "      <th>143900</th>\n",
              "      <td>4</td>\n",
              "      <td>2022</td>\n",
              "      <td>2022-08-31</td>\n",
              "      <td>Validador QR</td>\n",
              "      <td>9</td>\n",
              "      <td>14435.0</td>\n",
              "    </tr>\n",
              "    <tr>\n",
              "      <th>143901</th>\n",
              "      <td>4</td>\n",
              "      <td>2022</td>\n",
              "      <td>2022-08-31</td>\n",
              "      <td>Validador QR</td>\n",
              "      <td>A</td>\n",
              "      <td>0.0</td>\n",
              "    </tr>\n",
              "    <tr>\n",
              "      <th>143902</th>\n",
              "      <td>4</td>\n",
              "      <td>2022</td>\n",
              "      <td>2022-08-31</td>\n",
              "      <td>Validador QR</td>\n",
              "      <td>B</td>\n",
              "      <td>0.0</td>\n",
              "    </tr>\n",
              "    <tr>\n",
              "      <th>143903</th>\n",
              "      <td>4</td>\n",
              "      <td>2022</td>\n",
              "      <td>2022-08-31</td>\n",
              "      <td>Validador QR</td>\n",
              "      <td>12</td>\n",
              "      <td>0.0</td>\n",
              "    </tr>\n",
              "  </tbody>\n",
              "</table>\n",
              "<p>143904 rows × 6 columns</p>\n",
              "</div>\n",
              "      <button class=\"colab-df-convert\" onclick=\"convertToInteractive('df-87966bc8-1a4e-442d-b09e-682b1b76eecf')\"\n",
              "              title=\"Convert this dataframe to an interactive table.\"\n",
              "              style=\"display:none;\">\n",
              "        \n",
              "  <svg xmlns=\"http://www.w3.org/2000/svg\" height=\"24px\"viewBox=\"0 0 24 24\"\n",
              "       width=\"24px\">\n",
              "    <path d=\"M0 0h24v24H0V0z\" fill=\"none\"/>\n",
              "    <path d=\"M18.56 5.44l.94 2.06.94-2.06 2.06-.94-2.06-.94-.94-2.06-.94 2.06-2.06.94zm-11 1L8.5 8.5l.94-2.06 2.06-.94-2.06-.94L8.5 2.5l-.94 2.06-2.06.94zm10 10l.94 2.06.94-2.06 2.06-.94-2.06-.94-.94-2.06-.94 2.06-2.06.94z\"/><path d=\"M17.41 7.96l-1.37-1.37c-.4-.4-.92-.59-1.43-.59-.52 0-1.04.2-1.43.59L10.3 9.45l-7.72 7.72c-.78.78-.78 2.05 0 2.83L4 21.41c.39.39.9.59 1.41.59.51 0 1.02-.2 1.41-.59l7.78-7.78 2.81-2.81c.8-.78.8-2.07 0-2.86zM5.41 20L4 18.59l7.72-7.72 1.47 1.35L5.41 20z\"/>\n",
              "  </svg>\n",
              "      </button>\n",
              "      \n",
              "  <style>\n",
              "    .colab-df-container {\n",
              "      display:flex;\n",
              "      flex-wrap:wrap;\n",
              "      gap: 12px;\n",
              "    }\n",
              "\n",
              "    .colab-df-convert {\n",
              "      background-color: #E8F0FE;\n",
              "      border: none;\n",
              "      border-radius: 50%;\n",
              "      cursor: pointer;\n",
              "      display: none;\n",
              "      fill: #1967D2;\n",
              "      height: 32px;\n",
              "      padding: 0 0 0 0;\n",
              "      width: 32px;\n",
              "    }\n",
              "\n",
              "    .colab-df-convert:hover {\n",
              "      background-color: #E2EBFA;\n",
              "      box-shadow: 0px 1px 2px rgba(60, 64, 67, 0.3), 0px 1px 3px 1px rgba(60, 64, 67, 0.15);\n",
              "      fill: #174EA6;\n",
              "    }\n",
              "\n",
              "    [theme=dark] .colab-df-convert {\n",
              "      background-color: #3B4455;\n",
              "      fill: #D2E3FC;\n",
              "    }\n",
              "\n",
              "    [theme=dark] .colab-df-convert:hover {\n",
              "      background-color: #434B5C;\n",
              "      box-shadow: 0px 1px 3px 1px rgba(0, 0, 0, 0.15);\n",
              "      filter: drop-shadow(0px 1px 2px rgba(0, 0, 0, 0.3));\n",
              "      fill: #FFFFFF;\n",
              "    }\n",
              "  </style>\n",
              "\n",
              "      <script>\n",
              "        const buttonEl =\n",
              "          document.querySelector('#df-87966bc8-1a4e-442d-b09e-682b1b76eecf button.colab-df-convert');\n",
              "        buttonEl.style.display =\n",
              "          google.colab.kernel.accessAllowed ? 'block' : 'none';\n",
              "\n",
              "        async function convertToInteractive(key) {\n",
              "          const element = document.querySelector('#df-87966bc8-1a4e-442d-b09e-682b1b76eecf');\n",
              "          const dataTable =\n",
              "            await google.colab.kernel.invokeFunction('convertToInteractive',\n",
              "                                                     [key], {});\n",
              "          if (!dataTable) return;\n",
              "\n",
              "          const docLinkHtml = 'Like what you see? Visit the ' +\n",
              "            '<a target=\"_blank\" href=https://colab.research.google.com/notebooks/data_table.ipynb>data table notebook</a>'\n",
              "            + ' to learn more about interactive tables.';\n",
              "          element.innerHTML = '';\n",
              "          dataTable['output_type'] = 'display_data';\n",
              "          await google.colab.output.renderOutput(dataTable, element);\n",
              "          const docLink = document.createElement('div');\n",
              "          docLink.innerHTML = docLinkHtml;\n",
              "          element.appendChild(docLink);\n",
              "        }\n",
              "      </script>\n",
              "    </div>\n",
              "  </div>\n",
              "  "
            ]
          },
          "metadata": {},
          "execution_count": 5
        }
      ]
    },
    {
      "cell_type": "markdown",
      "source": [
        "Que linea tuvo mas ingresos en un dia "
      ],
      "metadata": {
        "id": "GKJhPEV7RyOf"
      }
    },
    {
      "cell_type": "code",
      "source": [
        "df.groupby(['linea'])['ingreso'].max()"
      ],
      "metadata": {
        "colab": {
          "base_uri": "https://localhost:8080/",
          "height": 0
        },
        "id": "6BYz-n1cptlg",
        "outputId": "35a64ba4-49e7-4fe9-883d-9463ccab66c2"
      },
      "execution_count": 6,
      "outputs": [
        {
          "output_type": "execute_result",
          "data": {
            "text/plain": [
              "linea\n",
              "1     7619910.0\n",
              "2     8337195.0\n",
              "3     7268655.0\n",
              "4     1747095.0\n",
              "5     2562030.0\n",
              "6     1973325.0\n",
              "7     3551025.0\n",
              "8     5360265.0\n",
              "9     3474285.0\n",
              "12    3150373.0\n",
              "A     2709630.0\n",
              "B     5693535.0\n",
              "Name: ingreso, dtype: float64"
            ]
          },
          "metadata": {},
          "execution_count": 6
        }
      ]
    },
    {
      "cell_type": "markdown",
      "source": [
        "Se puede ver que la linea 2 en un dia pudo ingresar 8337195 pesos superando asi a las demas en un dia"
      ],
      "metadata": {
        "id": "xqsGettCqVwp"
      }
    },
    {
      "cell_type": "markdown",
      "source": [
        "Que lienea tuvo menos ingresos"
      ],
      "metadata": {
        "id": "-a_8eTYJRz7y"
      }
    },
    {
      "cell_type": "code",
      "source": [
        "df.groupby(['linea'])['ingreso'].sum()"
      ],
      "metadata": {
        "colab": {
          "base_uri": "https://localhost:8080/",
          "height": 0
        },
        "id": "nF72QkJ8aowL",
        "outputId": "682a87ad-4357-45fb-8c98-ab5c6a358bfd"
      },
      "execution_count": 7,
      "outputs": [
        {
          "output_type": "execute_result",
          "data": {
            "text/plain": [
              "linea\n",
              "1     9.141621e+09\n",
              "2     1.032538e+10\n",
              "3     8.841817e+09\n",
              "4     1.223978e+09\n",
              "5     2.858167e+09\n",
              "6     1.910599e+09\n",
              "7     4.362643e+09\n",
              "8     5.336679e+09\n",
              "9     3.948715e+09\n",
              "12    3.946654e+09\n",
              "A     3.202921e+09\n",
              "B     6.169709e+09\n",
              "Name: ingreso, dtype: float64"
            ]
          },
          "metadata": {},
          "execution_count": 7
        }
      ]
    },
    {
      "cell_type": "markdown",
      "source": [
        "Se pude ver que al sumar todos los ingresos que han tenido a lo largo de los años la linea 2 es la que mas a generado en estos 10 años generando 10,325,380,000 pesos "
      ],
      "metadata": {
        "id": "TTUdhTeGqgI0"
      }
    },
    {
      "cell_type": "markdown",
      "source": [
        "Que tipo de ingresos aporta mas"
      ],
      "metadata": {
        "id": "JDAtr0TVR3UP"
      }
    },
    {
      "cell_type": "code",
      "source": [
        "df.groupby(['tipo_ingreso'])['ingreso'].sum()"
      ],
      "metadata": {
        "colab": {
          "base_uri": "https://localhost:8080/",
          "height": 0
        },
        "id": "FdyaHjPSbBIU",
        "outputId": "3d76c46f-1db9-4118-ca7c-32559636122e"
      },
      "execution_count": 8,
      "outputs": [
        {
          "output_type": "execute_result",
          "data": {
            "text/plain": [
              "tipo_ingreso\n",
              "Boletos         2.971522e+10\n",
              "Recargas        3.128483e+10\n",
              "Tarjetas        2.656473e+08\n",
              "Validador QR    3.186013e+06\n",
              "Name: ingreso, dtype: float64"
            ]
          },
          "metadata": {},
          "execution_count": 8
        }
      ]
    },
    {
      "cell_type": "markdown",
      "source": [
        "Se puede apreciar que a lo largo de estos 10 años lo que mas le ah ingresado dinero a las lineas del metro son las recargas de las tarjetas con 31,284,830,000 pesos"
      ],
      "metadata": {
        "id": "eTqbeqHDqrMg"
      }
    },
    {
      "cell_type": "markdown",
      "source": [
        "Que dia de la semana genera mas ingresos"
      ],
      "metadata": {
        "id": "-7wmA_vZR5l-"
      }
    },
    {
      "cell_type": "code",
      "source": [
        "df.groupby(['dia'])['ingreso'].sum()"
      ],
      "metadata": {
        "colab": {
          "base_uri": "https://localhost:8080/",
          "height": 0
        },
        "id": "mZH_--TN-lyk",
        "outputId": "b51a5b98-7cfd-4ff7-b1a1-b5b7100d5635"
      },
      "execution_count": 9,
      "outputs": [
        {
          "output_type": "execute_result",
          "data": {
            "text/plain": [
              "dia\n",
              "1    5.424760e+09\n",
              "2    1.064377e+10\n",
              "3    9.412358e+09\n",
              "4    8.959551e+09\n",
              "5    8.831437e+09\n",
              "6    9.379066e+09\n",
              "7    8.617932e+09\n",
              "Name: ingreso, dtype: float64"
            ]
          },
          "metadata": {},
          "execution_count": 9
        }
      ]
    },
    {
      "cell_type": "markdown",
      "source": [
        "Se ve que el dia lunes es el que mas dinero genera con diferencia sobre los otros dias de la semana ya que a generado 10,643,770,000 a lo largo de los 10 años"
      ],
      "metadata": {
        "id": "WOZcVT5srvnO"
      }
    },
    {
      "cell_type": "markdown",
      "source": [
        "cual es el promedio de ingreso de cada linea"
      ],
      "metadata": {
        "id": "XYD1x22yR76l"
      }
    },
    {
      "cell_type": "code",
      "source": [
        "df.groupby(['linea'])['ingreso'].mean()"
      ],
      "metadata": {
        "colab": {
          "base_uri": "https://localhost:8080/",
          "height": 0
        },
        "id": "ToVnfp_z-tt9",
        "outputId": "455c509b-deb3-4ce6-ec59-aaa465db5cf2"
      },
      "execution_count": 10,
      "outputs": [
        {
          "output_type": "execute_result",
          "data": {
            "text/plain": [
              "linea\n",
              "1     762309.937553\n",
              "2     861022.120038\n",
              "3     737309.584125\n",
              "4     102066.221338\n",
              "5     238339.464516\n",
              "6     159322.825239\n",
              "7     363796.098885\n",
              "8     445019.937516\n",
              "9     329279.081355\n",
              "12    329107.261687\n",
              "A     267088.117535\n",
              "B     514485.372723\n",
              "Name: ingreso, dtype: float64"
            ]
          },
          "metadata": {},
          "execution_count": 10
        }
      ]
    },
    {
      "cell_type": "markdown",
      "source": [
        "Se puede apreciar que la linea que mas aporta al metro es la linea 2 aportando 861,022.12 al dia en promedio\n",
        "\n",
        "\n"
      ],
      "metadata": {
        "id": "VWMigl6R2JU7"
      }
    },
    {
      "cell_type": "markdown",
      "source": [
        "Cual es el promedio de ingreso de cada tipo de ingreso"
      ],
      "metadata": {
        "id": "5leIeE5FSA4P"
      }
    },
    {
      "cell_type": "code",
      "source": [
        "df.groupby(['tipo_ingreso'])['ingreso'].mean()"
      ],
      "metadata": {
        "colab": {
          "base_uri": "https://localhost:8080/",
          "height": 0
        },
        "id": "F9lRJaxr-4nb",
        "outputId": "567edb41-f814-4a24-9b94-1864c00ceb70"
      },
      "execution_count": 11,
      "outputs": [
        {
          "output_type": "execute_result",
          "data": {
            "text/plain": [
              "tipo_ingreso\n",
              "Boletos         635592.481883\n",
              "Recargas        669165.512939\n",
              "Tarjetas          5682.052426\n",
              "Validador QR       873.358827\n",
              "Name: ingreso, dtype: float64"
            ]
          },
          "metadata": {},
          "execution_count": 11
        }
      ]
    },
    {
      "cell_type": "markdown",
      "source": [
        "Aqui se ve que las recargas aportan al dia en promedio 669,165.5129 pesos"
      ],
      "metadata": {
        "id": "j2rRU9RM2cef"
      }
    },
    {
      "cell_type": "markdown",
      "source": [
        "que año tuvo mas ingresos "
      ],
      "metadata": {
        "id": "YS2RWImESEs1"
      }
    },
    {
      "cell_type": "code",
      "source": [
        "df.groupby(['año'])['ingreso'].sum()"
      ],
      "metadata": {
        "colab": {
          "base_uri": "https://localhost:8080/",
          "height": 0
        },
        "id": "jeqUr0PC-9cx",
        "outputId": "cbbb8631-9f29-4366-b066-7103f58a8225"
      },
      "execution_count": 12,
      "outputs": [
        {
          "output_type": "execute_result",
          "data": {
            "text/plain": [
              "año\n",
              "2012    4.463972e+09\n",
              "2013    4.968039e+09\n",
              "2014    6.763679e+09\n",
              "2015    6.941626e+09\n",
              "2016    7.143217e+09\n",
              "2017    6.877182e+09\n",
              "2018    6.835859e+09\n",
              "2019    6.388239e+09\n",
              "2020    3.999880e+09\n",
              "2021    3.768411e+09\n",
              "2022    3.118774e+09\n",
              "Name: ingreso, dtype: float64"
            ]
          },
          "metadata": {},
          "execution_count": 12
        }
      ]
    },
    {
      "cell_type": "markdown",
      "source": [
        "Al ver lo recaudado por cada año despues de  10 años el año que mas genero fue el año 2016 generando 7,143,217,000 pesos"
      ],
      "metadata": {
        "id": "mZP2_vkO3Fcw"
      }
    },
    {
      "cell_type": "markdown",
      "source": [
        "cual es el promedio de los ingresos por dia\n"
      ],
      "metadata": {
        "id": "qK7DYIdySHbp"
      }
    },
    {
      "cell_type": "code",
      "source": [
        "df.groupby(['dia'])['ingreso'].mean()"
      ],
      "metadata": {
        "colab": {
          "base_uri": "https://localhost:8080/",
          "height": 0
        },
        "id": "BTrnXGrO_VfK",
        "outputId": "cd075254-e4bb-405d-8ed4-2400f9a04bbb"
      },
      "execution_count": 13,
      "outputs": [
        {
          "output_type": "execute_result",
          "data": {
            "text/plain": [
              "dia\n",
              "1    263747.569521\n",
              "2    517190.211080\n",
              "3    457354.627519\n",
              "4    435352.325271\n",
              "5    430130.389667\n",
              "6    456802.356757\n",
              "7    419731.750927\n",
              "Name: ingreso, dtype: float64"
            ]
          },
          "metadata": {},
          "execution_count": 13
        }
      ]
    },
    {
      "cell_type": "markdown",
      "source": [
        "El dia que aporta mas dia a dia en promedio es el dia lunes que genera 517,190 pesos en promedio por dia "
      ],
      "metadata": {
        "id": "oA0PnIUv4BKB"
      }
    },
    {
      "cell_type": "markdown",
      "source": [
        "cual es el promedio de ingresos de cada año"
      ],
      "metadata": {
        "id": "cSFGky2LSLnV"
      }
    },
    {
      "cell_type": "code",
      "source": [
        "df.groupby(['año'])['ingreso'].mean()"
      ],
      "metadata": {
        "colab": {
          "base_uri": "https://localhost:8080/",
          "height": 0
        },
        "id": "V6k9Az68chRf",
        "outputId": "726585e3-8f97-4339-9f4b-9c768fa5bfa9"
      },
      "execution_count": 14,
      "outputs": [
        {
          "output_type": "execute_result",
          "data": {
            "text/plain": [
              "año\n",
              "2012    338795.675468\n",
              "2013    378085.183240\n",
              "2014    514739.663345\n",
              "2015    528282.077413\n",
              "2016    542138.507539\n",
              "2017    523377.589338\n",
              "2018    520232.815221\n",
              "2019    486167.331126\n",
              "2020    303573.157939\n",
              "2021    271655.959153\n",
              "2022    267384.643692\n",
              "Name: ingreso, dtype: float64"
            ]
          },
          "metadata": {},
          "execution_count": 14
        }
      ]
    },
    {
      "cell_type": "markdown",
      "source": [
        "Se puede ver que el promedio del dia de cada año el mayor es del 2016 generando alrededor de 542,138.50 pesos diarios "
      ],
      "metadata": {
        "id": "dVUHuwp44sSp"
      }
    },
    {
      "cell_type": "markdown",
      "source": [
        "Que año tuvo mas ingresos en un dia"
      ],
      "metadata": {
        "id": "w2aYP7cvoZ7_"
      }
    },
    {
      "cell_type": "code",
      "source": [
        "df.groupby(['año'])['ingreso'].max()"
      ],
      "metadata": {
        "colab": {
          "base_uri": "https://localhost:8080/",
          "height": 0
        },
        "id": "HOxCO_9Sohvd",
        "outputId": "5d1aad25-b696-4252-8376-5f20344cf9ae"
      },
      "execution_count": 15,
      "outputs": [
        {
          "output_type": "execute_result",
          "data": {
            "text/plain": [
              "año\n",
              "2012    1877130.0\n",
              "2013    8337195.0\n",
              "2014    2544782.0\n",
              "2015    2532217.0\n",
              "2016    2566650.0\n",
              "2017    2613643.0\n",
              "2018    2836075.0\n",
              "2019    2608248.0\n",
              "2020    3497492.0\n",
              "2021    2271572.0\n",
              "2022    2619488.0\n",
              "Name: ingreso, dtype: float64"
            ]
          },
          "metadata": {},
          "execution_count": 15
        }
      ]
    },
    {
      "cell_type": "markdown",
      "source": [
        "El año que mas recaudo ingresos en un solo dia fue el año 2013 consiguendo ingresar 8,337,195 pesos en un dia"
      ],
      "metadata": {
        "id": "fZee23DD47wH"
      }
    }
  ]
}