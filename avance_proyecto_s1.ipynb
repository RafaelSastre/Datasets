{
  "nbformat": 4,
  "nbformat_minor": 0,
  "metadata": {
    "colab": {
      "provenance": []
    },
    "kernelspec": {
      "name": "python3",
      "display_name": "Python 3"
    },
    "language_info": {
      "name": "python"
    }
  },
  "cells": [
    {
      "cell_type": "markdown",
      "source": [
        "# Estudio de tipo de chocolates "
      ],
      "metadata": {
        "id": "SqmHfnd5XLCQ"
      }
    },
    {
      "cell_type": "markdown",
      "source": [
        "Organizacion de Chocolat....... "
      ],
      "metadata": {
        "id": "7SpFm5tXXQSs"
      }
    },
    {
      "cell_type": "code",
      "execution_count": null,
      "metadata": {
        "id": "iTBk22ItXJvI"
      },
      "outputs": [],
      "source": []
    }
  ]
}